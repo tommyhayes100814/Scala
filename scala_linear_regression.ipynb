{
 "cells": [
  {
   "cell_type": "code",
   "execution_count": 1,
   "metadata": {},
   "outputs": [
    {
     "data": {
      "text/plain": [
       "\u001b[32mimport \u001b[39m\u001b[36mscala.io._\u001b[39m"
      ]
     },
     "execution_count": 1,
     "metadata": {},
     "output_type": "execute_result"
    }
   ],
   "source": [
    "import scala.io._"
   ]
  },
  {
   "cell_type": "code",
   "execution_count": 2,
   "metadata": {},
   "outputs": [
    {
     "data": {
      "text/plain": [
       "defined \u001b[32mfunction\u001b[39m \u001b[36mgetXAndYValues\u001b[39m"
      ]
     },
     "execution_count": 2,
     "metadata": {},
     "output_type": "execute_result"
    }
   ],
   "source": [
    "def getXAndYValues() : (List[Double], List[Double]) =  { \n",
    "    // read in the file as a string\n",
    "    val reader: String = Source.fromFile(\"list_vs_best_price.txt\").mkString\n",
    "    \n",
    "    // read and split on delimiter\n",
    "    val textToList: List[String] = reader.split(\",\").toList\n",
    "    \n",
    "    // turn those into a list\n",
    "    val values : List[(String, Int)] = textToList.zipWithIndex.toList\n",
    "\n",
    "    // parse out the x and y values based on their index\n",
    "    val xValues: List[Double] = values.filter(i => i._2 % 2 == 0).toMap.keys.toList.map(i => i.toDouble)\n",
    "    val yValues: List[Double] = values.filter(i => i._2 % 2 != 0).toMap.keys.toList.map(i => i.toDouble)\n",
    "    \n",
    "    return (xValues, yValues)\n",
    "}"
   ]
  },
  {
   "cell_type": "code",
   "execution_count": 3,
   "metadata": {},
   "outputs": [
    {
     "data": {
      "text/plain": [
       "defined \u001b[32mfunction\u001b[39m \u001b[36mcalculateEquationLine\u001b[39m"
      ]
     },
     "execution_count": 3,
     "metadata": {},
     "output_type": "execute_result"
    }
   ],
   "source": [
    "def calculateEquationLine(xValues: List[Double], yValues: List[Double]) : String = { \n",
    "    // val (xValues, yValues) = getXAndYValues()\n",
    "\n",
    "    // sum up all the x and y vlaues \n",
    "    val totalX: Double = xValues.sum\n",
    "    val totalY: Double = yValues.sum\n",
    "\n",
    "    // sum up all the x squared\n",
    "    val totalXSquared: Double = xValues.map(i => i * i).sum\n",
    "\n",
    "    // get the dot product of x * y\n",
    "    val xDotProductY: Double = (xValues zip yValues).map(x => x._1 * x._2).sum\n",
    "    \n",
    "    // get the total number of datapoints\n",
    "    // length of the list\n",
    "    val totalPoints: Int = xValues.length\n",
    "\n",
    "    // calculate the slope\n",
    "    val slope: Double = (\n",
    "        (totalPoints * xDotProductY - totalX * totalY) / \n",
    "        (totalPoints * totalXSquared - totalX * totalX)\n",
    "    )\n",
    "\n",
    "    // calculate the y intercept\n",
    "    val yIntercept: Double = (totalY - slope * totalX) / totalPoints\n",
    "    // put all into an equation\n",
    "    val equation: String = s\"y = ${slope}x + $yIntercept\"\n",
    "    return equation\n",
    "}"
   ]
  },
  {
   "cell_type": "code",
   "execution_count": 4,
   "metadata": {},
   "outputs": [
    {
     "data": {
      "text/plain": [
       "\u001b[36mres3\u001b[39m: \u001b[32mString\u001b[39m = \u001b[32m\"y = -0.06677479470588943x + 16.466236365817235\"\u001b[39m"
      ]
     },
     "execution_count": 4,
     "metadata": {},
     "output_type": "execute_result"
    }
   ],
   "source": [
    "//val (xValues, yValues) = getXAndYValues()\n",
    "// other way of doing this\n",
    "calculateEquationLine(\n",
    "    getXAndYValues()._1, getXAndYValues()._2\n",
    ")"
   ]
  },
  {
   "cell_type": "code",
   "execution_count": null,
   "metadata": {},
   "outputs": [],
   "source": []
  }
 ],
 "metadata": {
  "kernelspec": {
   "display_name": "Scala 2.12.8",
   "language": "scala",
   "name": "scala_2_12_8"
  },
  "language_info": {
   "codemirror_mode": "text/x-scala",
   "file_extension": ".scala",
   "mimetype": "text/x-scala",
   "name": "scala",
   "nbconvert_exporter": "script",
   "version": "2.12.8"
  }
 },
 "nbformat": 4,
 "nbformat_minor": 2
}
